{
  "nbformat": 4,
  "nbformat_minor": 0,
  "metadata": {
    "colab": {
      "provenance": [],
      "collapsed_sections": []
    },
    "kernelspec": {
      "name": "python3",
      "display_name": "Python 3"
    },
    "language_info": {
      "name": "python"
    }
  },
  "cells": [
    {
      "cell_type": "code",
      "execution_count": null,
      "metadata": {
        "colab": {
          "base_uri": "https://localhost:8080/"
        },
        "id": "2npd7Y5qoiCG",
        "outputId": "fa791e57-f08a-491f-9f7d-7f58974e8ba4"
      },
      "outputs": [
        {
          "output_type": "stream",
          "name": "stdout",
          "text": [
            "3\n",
            "9\n",
            "15\n",
            "21\n",
            "27\n"
          ]
        }
      ],
      "source": [
        "a=[1,3,5,7,9]\n",
        "for i in a:\n",
        "  i=i*3\n",
        "  print(i)"
      ]
    },
    {
      "cell_type": "code",
      "source": [
        "a=[1,2,3]\n",
        "b=[2,3,4]\n",
        "\n",
        "c=a+b\n",
        "print(c)"
      ],
      "metadata": {
        "colab": {
          "base_uri": "https://localhost:8080/"
        },
        "id": "KPUOkjzqozJX",
        "outputId": "fb83fcae-d738-43de-9e7b-49789fc397f7"
      },
      "execution_count": null,
      "outputs": [
        {
          "output_type": "stream",
          "name": "stdout",
          "text": [
            "[1, 2, 3, 2, 3, 4]\n"
          ]
        }
      ]
    },
    {
      "cell_type": "code",
      "source": [
        "def fact(x):\n",
        "  if x==1:\n",
        "    return 1\n",
        "  else:\n",
        "    return (x*fact(x-1))  \n",
        "\n",
        "num=int(input('enter the number :'))\n",
        "print('The factoral of the',num,'is',fact(num))"
      ],
      "metadata": {
        "colab": {
          "base_uri": "https://localhost:8080/"
        },
        "id": "9nnXv58Oo9o0",
        "outputId": "18ebf9b6-18c3-40a1-f86b-a7c152c6ea3e"
      },
      "execution_count": null,
      "outputs": [
        {
          "output_type": "stream",
          "name": "stdout",
          "text": [
            "enter the number :5\n",
            "The factoral of the 5 is 120\n"
          ]
        }
      ]
    },
    {
      "cell_type": "code",
      "source": [
        "def fact(x):\n",
        "  if x==1:\n",
        "    return 1\n",
        "  else:\n",
        "    return(x*fact(x-1))\n",
        "num=int(input('enter the number'))\n",
        "print('ans is',fact(num) )"
      ],
      "metadata": {
        "colab": {
          "base_uri": "https://localhost:8080/"
        },
        "id": "AuIm6Kyfq2ib",
        "outputId": "15709d36-356e-4420-8c8b-110e398cfcc1"
      },
      "execution_count": null,
      "outputs": [
        {
          "output_type": "stream",
          "name": "stdout",
          "text": [
            "enter the number3\n",
            "ans is 6\n"
          ]
        }
      ]
    },
    {
      "cell_type": "code",
      "source": [
        "a=int(input('enter the number:'))\n",
        "\n",
        "if a%2==0:\n",
        "  print('a is even no')\n",
        "else:\n",
        "  print('a','is a odd number')"
      ],
      "metadata": {
        "colab": {
          "base_uri": "https://localhost:8080/"
        },
        "id": "_bX8ZB4YrgJ1",
        "outputId": "dfee0d3d-ae35-4e6c-9f6e-38054c758fad"
      },
      "execution_count": null,
      "outputs": [
        {
          "output_type": "stream",
          "name": "stdout",
          "text": [
            "enter the number:79\n",
            "a is a odd number\n"
          ]
        }
      ]
    },
    {
      "cell_type": "code",
      "source": [
        "# generate a random number\n",
        "import random\n",
        "print(random.randint(0,100))"
      ],
      "metadata": {
        "colab": {
          "base_uri": "https://localhost:8080/"
        },
        "id": "N2RQ0KZJsAok",
        "outputId": "31cb00ff-ad22-4af7-88b3-b33b226a1e50"
      },
      "execution_count": null,
      "outputs": [
        {
          "output_type": "stream",
          "name": "stdout",
          "text": [
            "17\n"
          ]
        }
      ]
    },
    {
      "cell_type": "code",
      "source": [
        "# calculate the area of right abgled triangle:\n",
        "a=int(input(\"Enter the base of triangle:\"))\n",
        "b=int(input(\"Enter the height of triangle:\"))\n",
        "\n",
        "c=0.5*a*b\n",
        "\n",
        "print(c)\n"
      ],
      "metadata": {
        "colab": {
          "base_uri": "https://localhost:8080/"
        },
        "id": "wA6vcRSJvCC8",
        "outputId": "ec12d369-c890-4218-c893-bf81a97eb991"
      },
      "execution_count": null,
      "outputs": [
        {
          "output_type": "stream",
          "name": "stdout",
          "text": [
            "Enter the base of triangle:10\n",
            "Enter the height of triangle:10\n",
            "50.0\n"
          ]
        }
      ]
    },
    {
      "cell_type": "code",
      "source": [
        "# area of triangle:\n",
        "a=int(input(\"Enter the 1st side of triangle:\"))\n",
        "b=int(input(\"Enter the 2nd side of triangle:\"))\n",
        "c=int(input(\"Enter the 3rd side of triangle:\"))\n",
        "\n",
        "#semi perimeter\n",
        "s=(a+b+c)/2\n",
        "#area\n",
        "\n",
        "area=(s*(s-a)*(s-b)*(s-c))**0.5\n",
        "\n",
        "print(area)"
      ],
      "metadata": {
        "colab": {
          "base_uri": "https://localhost:8080/"
        },
        "id": "eEK11ZBIvi_a",
        "outputId": "ee1083ee-76d8-4141-d40e-e2cf48359569"
      },
      "execution_count": null,
      "outputs": [
        {
          "output_type": "stream",
          "name": "stdout",
          "text": [
            "Enter the 1st side of triangle:5\n",
            "Enter the 2nd side of triangle:6\n",
            "Enter the 3rd side of triangle:7\n",
            "14.696938456699069\n"
          ]
        }
      ]
    },
    {
      "cell_type": "code",
      "source": [
        "# largest among the three numbers\n",
        "a=int(input(\"Enter the 1st no:\"))\n",
        "b=int(input(\"Enter the 2nd no:\"))\n",
        "c=int(input(\"Enter the 3rd no:\"))\n",
        "\n",
        "if (a>=b) and (a>=c):\n",
        "  largest=a\n",
        "elif(b>=a) and (b>=c):\n",
        "  largest=b\n",
        "else:\n",
        "  largest=c\n",
        "print(largest)"
      ],
      "metadata": {
        "colab": {
          "base_uri": "https://localhost:8080/"
        },
        "id": "Qj7grXzBxMtO",
        "outputId": "5f7be195-c8a4-408f-c55c-7d10a9442c09"
      },
      "execution_count": null,
      "outputs": [
        {
          "output_type": "stream",
          "name": "stdout",
          "text": [
            "Enter the 1st no:5\n",
            "Enter the 2nd no:6\n",
            "Enter the 3rd no:2\n",
            "6\n"
          ]
        }
      ]
    },
    {
      "cell_type": "code",
      "source": [
        "# check whether the no is prime no or not:\n",
        "num=int(input('enter a number'))\n",
        "\n",
        "if num>1:\n",
        "  for i in range(2,n):\n",
        "    if (num%i)==0:\n",
        "      print(num,'is not a prime no')\n",
        "      print(i,)"
      ],
      "metadata": {
        "id": "9I0SxdPq1JPx"
      },
      "execution_count": null,
      "outputs": []
    },
    {
      "cell_type": "code",
      "source": [
        "# sum the numbers in array\n",
        "num=[1,2,3,4,5]\n",
        "\n",
        "multip=1 # initialize sum=0 for adding the numbers\n",
        "\n",
        "for i in num:\n",
        "  multip=multip*i\n",
        "print('The sum is ',multip)"
      ],
      "metadata": {
        "colab": {
          "base_uri": "https://localhost:8080/"
        },
        "id": "TEcSn-69_2VT",
        "outputId": "0682aa33-b0bc-41e3-9807-57c800b5787f"
      },
      "execution_count": null,
      "outputs": [
        {
          "output_type": "stream",
          "name": "stdout",
          "text": [
            "The sum is  120\n"
          ]
        }
      ]
    },
    {
      "cell_type": "code",
      "source": [
        "# fibonaci series:\n",
        "first,second=0,1\n",
        "\n",
        "n=int(input('enter the number'))\n",
        "def fib(num):\n",
        "  if num==0:\n",
        "    return 0\n",
        "  elif num==1:\n",
        "    return 1\n",
        "  else:\n",
        "    return fib(num-1)+fib(num-2)\n",
        "print(\"Fibonacci series are:\")\n",
        "for i in range(0,n):\n",
        "  print(fib(i))"
      ],
      "metadata": {
        "colab": {
          "base_uri": "https://localhost:8080/"
        },
        "id": "tKSbd2pzALRk",
        "outputId": "db372375-e75b-4ff4-bec4-a92688239c24"
      },
      "execution_count": null,
      "outputs": [
        {
          "output_type": "stream",
          "name": "stdout",
          "text": [
            "enter the number5\n",
            "Fibonacci series are:\n",
            "0\n",
            "1\n",
            "1\n",
            "2\n",
            "3\n"
          ]
        }
      ]
    },
    {
      "cell_type": "code",
      "source": [
        "# swapping of variables:\n",
        "a=int(input(\"enter the first number\"))\n",
        "b=int(input(\"enter the second number\"))\n",
        "\n",
        "a=a-b\n",
        "b=a+b\n",
        "a=b-a\n",
        "\n",
        "print(a)\n",
        "print(b)"
      ],
      "metadata": {
        "colab": {
          "base_uri": "https://localhost:8080/"
        },
        "id": "qLEYwBygCVtR",
        "outputId": "9103a8bb-dbea-4de0-dd68-9121dfcf39f6"
      },
      "execution_count": null,
      "outputs": [
        {
          "output_type": "stream",
          "name": "stdout",
          "text": [
            "enter the first number5\n",
            "enter the second number2\n",
            "2\n",
            "5\n"
          ]
        }
      ]
    },
    {
      "cell_type": "code",
      "source": [],
      "metadata": {
        "id": "VmvEr2zHDVS9"
      },
      "execution_count": null,
      "outputs": []
    }
  ]
}