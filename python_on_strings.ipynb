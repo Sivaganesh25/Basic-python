{
  "nbformat": 4,
  "nbformat_minor": 0,
  "metadata": {
    "colab": {
      "provenance": [],
      "collapsed_sections": []
    },
    "kernelspec": {
      "name": "python3",
      "display_name": "Python 3"
    },
    "language_info": {
      "name": "python"
    }
  },
  "cells": [
    {
      "cell_type": "code",
      "execution_count": null,
      "metadata": {
        "id": "EsIh7m-xEtc6"
      },
      "outputs": [],
      "source": [
        "# Python on strings\n"
      ]
    },
    {
      "cell_type": "code",
      "source": [
        "# removing character from a string\n",
        "str=input(\"enter the name:\")\n",
        "ch=input(\"enter the character to be removed\")\n",
        "\n",
        "print(str.replace(ch,\"\"))"
      ],
      "metadata": {
        "colab": {
          "base_uri": "https://localhost:8080/"
        },
        "id": "0aE3JgxREx5R",
        "outputId": "462b2072-0c3a-46bb-cf8e-3edfc2d3c170"
      },
      "execution_count": null,
      "outputs": [
        {
          "output_type": "stream",
          "name": "stdout",
          "text": [
            "enter the name:shiva\n",
            "enter the character to be removedh\n",
            "siva\n"
          ]
        }
      ]
    },
    {
      "cell_type": "code",
      "source": [
        "s=input(\"name?\")\n",
        "ch=input(\"what to replace?\")\n",
        "print(s.replace(ch,\"d\"))"
      ],
      "metadata": {
        "colab": {
          "base_uri": "https://localhost:8080/"
        },
        "id": "B8bsZOZUFIzw",
        "outputId": "dcc043a6-0309-4220-a0f8-199f35de56b6"
      },
      "execution_count": null,
      "outputs": [
        {
          "output_type": "stream",
          "name": "stdout",
          "text": [
            "name?dhoni\n",
            "what to replace?o\n",
            "dhdni\n"
          ]
        }
      ]
    },
    {
      "cell_type": "code",
      "source": [
        "# number of occurences in program\n",
        "string=input(\"Enter the name\")\n",
        "char=input(\"Enter the letter\")\n",
        "\n",
        "count=0\n",
        "for i in range(len(string)):\n",
        "  if(string[i]==char):\n",
        "    count=count+1\n",
        "print(\"Total no of occurences of\",char,\"is:\",count)"
      ],
      "metadata": {
        "colab": {
          "base_uri": "https://localhost:8080/"
        },
        "id": "dlDcgA5MFotO",
        "outputId": "fe4bbc33-27df-4c9c-ed1c-1a2cd5f185ea"
      },
      "execution_count": null,
      "outputs": [
        {
          "output_type": "stream",
          "name": "stdout",
          "text": [
            "Enter the namesivaganesh\n",
            "Enter the namea\n",
            "Total no of occurences of a is: 2\n"
          ]
        }
      ]
    },
    {
      "cell_type": "code",
      "source": [
        "# to check the given character is consonant or vowel\n",
        "ch=input(\"Enter the character:\")\n",
        "if(ch==\"a\" or ch==\"e\" or ch==\"i\" or ch==\"o\" or ch==\"u\" or ch==\"A\" or ch==\"E\" or ch==\"I\" or ch==\"O\" or ch==\"U\"):\n",
        "  print(ch,\"is vowel\")\n",
        "else:\n",
        "  print(ch,\"is consonant\")"
      ],
      "metadata": {
        "colab": {
          "base_uri": "https://localhost:8080/"
        },
        "id": "XOhgDCq3HqMp",
        "outputId": "a336f092-41da-4677-8288-47716c9c30c6"
      },
      "execution_count": null,
      "outputs": [
        {
          "output_type": "stream",
          "name": "stdout",
          "text": [
            "Enter the character:a\n",
            "a is vowel\n"
          ]
        }
      ]
    },
    {
      "cell_type": "code",
      "source": [
        "\n"
      ],
      "metadata": {
        "id": "_SRD8zpMKAnc"
      },
      "execution_count": null,
      "outputs": []
    }
  ]
}